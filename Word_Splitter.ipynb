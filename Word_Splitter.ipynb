{
 "cells": [
  {
   "cell_type": "code",
   "execution_count": 45,
   "metadata": {},
   "outputs": [],
   "source": [
    "import pandas as pd\n",
    "import numpy as np\n",
    "url = 'https://raw.githubusercontent.com/RidhaMoosa/eskom_data-/master/twitter_nov_2019.csv' "
   ]
  },
  {
   "cell_type": "code",
   "execution_count": 46,
   "metadata": {},
   "outputs": [],
   "source": [
    "df=pd.read_csv(url) #using pandas to read the contents of the url"
   ]
  },
  {
   "cell_type": "code",
   "execution_count": 47,
   "metadata": {},
   "outputs": [],
   "source": [
    "def word_spliter(df):\n",
    "    df['temp column']=df['Tweets'].str.lower()\n",
    "    df['Split tweets']=df['temp column'].str.rsplit()\n",
    "    df = df.drop('temp column', 1)\n",
    "\n",
    "    return df"
   ]
  },
  {
   "cell_type": "code",
   "execution_count": 44,
   "metadata": {},
   "outputs": [
    {
     "data": {
      "text/html": [
       "<div>\n",
       "<style scoped>\n",
       "    .dataframe tbody tr th:only-of-type {\n",
       "        vertical-align: middle;\n",
       "    }\n",
       "\n",
       "    .dataframe tbody tr th {\n",
       "        vertical-align: top;\n",
       "    }\n",
       "\n",
       "    .dataframe thead th {\n",
       "        text-align: right;\n",
       "    }\n",
       "</style>\n",
       "<table border=\"1\" class=\"dataframe\">\n",
       "  <thead>\n",
       "    <tr style=\"text-align: right;\">\n",
       "      <th></th>\n",
       "      <th>Tweets</th>\n",
       "      <th>Date</th>\n",
       "      <th>Split tweets</th>\n",
       "    </tr>\n",
       "  </thead>\n",
       "  <tbody>\n",
       "    <tr>\n",
       "      <td>0</td>\n",
       "      <td>@BongaDlulane Please send an email to mediades...</td>\n",
       "      <td>2019-11-29 12:50:54</td>\n",
       "      <td>[@bongadlulane, please, send, an, email, to, m...</td>\n",
       "    </tr>\n",
       "    <tr>\n",
       "      <td>1</td>\n",
       "      <td>@saucy_mamiie Pls log a call on 0860037566</td>\n",
       "      <td>2019-11-29 12:46:53</td>\n",
       "      <td>[@saucy_mamiie, pls, log, a, call, on, 0860037...</td>\n",
       "    </tr>\n",
       "    <tr>\n",
       "      <td>2</td>\n",
       "      <td>@BongaDlulane Query escalated to media desk.</td>\n",
       "      <td>2019-11-29 12:46:10</td>\n",
       "      <td>[@bongadlulane, query, escalated, to, media, d...</td>\n",
       "    </tr>\n",
       "    <tr>\n",
       "      <td>3</td>\n",
       "      <td>Before leaving the office this afternoon, head...</td>\n",
       "      <td>2019-11-29 12:33:36</td>\n",
       "      <td>[before, leaving, the, office, this, afternoon...</td>\n",
       "    </tr>\n",
       "    <tr>\n",
       "      <td>4</td>\n",
       "      <td>#ESKOMFREESTATE #MEDIASTATEMENT : ESKOM SUSPEN...</td>\n",
       "      <td>2019-11-29 12:17:43</td>\n",
       "      <td>[#eskomfreestate, #mediastatement, :, eskom, s...</td>\n",
       "    </tr>\n",
       "    <tr>\n",
       "      <td>...</td>\n",
       "      <td>...</td>\n",
       "      <td>...</td>\n",
       "      <td>...</td>\n",
       "    </tr>\n",
       "    <tr>\n",
       "      <td>195</td>\n",
       "      <td>Eskom's Visitors Centres’ facilities include i...</td>\n",
       "      <td>2019-11-20 10:29:07</td>\n",
       "      <td>[eskom's, visitors, centres’, facilities, incl...</td>\n",
       "    </tr>\n",
       "    <tr>\n",
       "      <td>196</td>\n",
       "      <td>#Eskom connected 400 houses and in the process...</td>\n",
       "      <td>2019-11-20 10:25:20</td>\n",
       "      <td>[#eskom, connected, 400, houses, and, in, the,...</td>\n",
       "    </tr>\n",
       "    <tr>\n",
       "      <td>197</td>\n",
       "      <td>@ArthurGodbeer Is the power restored as yet?</td>\n",
       "      <td>2019-11-20 10:07:59</td>\n",
       "      <td>[@arthurgodbeer, is, the, power, restored, as,...</td>\n",
       "    </tr>\n",
       "    <tr>\n",
       "      <td>198</td>\n",
       "      <td>@MuthambiPaulina @SABCNewsOnline @IOL @eNCA @e...</td>\n",
       "      <td>2019-11-20 10:07:41</td>\n",
       "      <td>[@muthambipaulina, @sabcnewsonline, @iol, @enc...</td>\n",
       "    </tr>\n",
       "    <tr>\n",
       "      <td>199</td>\n",
       "      <td>RT @GP_DHS: The @GautengProvince made a commit...</td>\n",
       "      <td>2019-11-20 10:00:09</td>\n",
       "      <td>[rt, @gp_dhs:, the, @gautengprovince, made, a,...</td>\n",
       "    </tr>\n",
       "  </tbody>\n",
       "</table>\n",
       "<p>200 rows × 3 columns</p>\n",
       "</div>"
      ],
      "text/plain": [
       "                                                Tweets                 Date  \\\n",
       "0    @BongaDlulane Please send an email to mediades...  2019-11-29 12:50:54   \n",
       "1           @saucy_mamiie Pls log a call on 0860037566  2019-11-29 12:46:53   \n",
       "2         @BongaDlulane Query escalated to media desk.  2019-11-29 12:46:10   \n",
       "3    Before leaving the office this afternoon, head...  2019-11-29 12:33:36   \n",
       "4    #ESKOMFREESTATE #MEDIASTATEMENT : ESKOM SUSPEN...  2019-11-29 12:17:43   \n",
       "..                                                 ...                  ...   \n",
       "195  Eskom's Visitors Centres’ facilities include i...  2019-11-20 10:29:07   \n",
       "196  #Eskom connected 400 houses and in the process...  2019-11-20 10:25:20   \n",
       "197       @ArthurGodbeer Is the power restored as yet?  2019-11-20 10:07:59   \n",
       "198  @MuthambiPaulina @SABCNewsOnline @IOL @eNCA @e...  2019-11-20 10:07:41   \n",
       "199  RT @GP_DHS: The @GautengProvince made a commit...  2019-11-20 10:00:09   \n",
       "\n",
       "                                          Split tweets  \n",
       "0    [@bongadlulane, please, send, an, email, to, m...  \n",
       "1    [@saucy_mamiie, pls, log, a, call, on, 0860037...  \n",
       "2    [@bongadlulane, query, escalated, to, media, d...  \n",
       "3    [before, leaving, the, office, this, afternoon...  \n",
       "4    [#eskomfreestate, #mediastatement, :, eskom, s...  \n",
       "..                                                 ...  \n",
       "195  [eskom's, visitors, centres’, facilities, incl...  \n",
       "196  [#eskom, connected, 400, houses, and, in, the,...  \n",
       "197  [@arthurgodbeer, is, the, power, restored, as,...  \n",
       "198  [@muthambipaulina, @sabcnewsonline, @iol, @enc...  \n",
       "199  [rt, @gp_dhs:, the, @gautengprovince, made, a,...  \n",
       "\n",
       "[200 rows x 3 columns]"
      ]
     },
     "execution_count": 44,
     "metadata": {},
     "output_type": "execute_result"
    }
   ],
   "source": [
    "word_spliter(df)"
   ]
  },
  {
   "cell_type": "code",
   "execution_count": null,
   "metadata": {},
   "outputs": [],
   "source": []
  }
 ],
 "metadata": {
  "kernelspec": {
   "display_name": "Python 3",
   "language": "python",
   "name": "python3"
  },
  "language_info": {
   "codemirror_mode": {
    "name": "ipython",
    "version": 3
   },
   "file_extension": ".py",
   "mimetype": "text/x-python",
   "name": "python",
   "nbconvert_exporter": "python",
   "pygments_lexer": "ipython3",
   "version": "3.7.4"
  }
 },
 "nbformat": 4,
 "nbformat_minor": 2
}
