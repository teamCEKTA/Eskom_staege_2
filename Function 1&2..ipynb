{
 "cells": [
  {
   "cell_type": "markdown",
   "metadata": {},
   "source": [
    "Function 1: Metric Dictionary"
   ]
  },
  {
   "cell_type": "code",
   "execution_count": null,
   "metadata": {},
   "outputs": [],
   "source": [
    "def dictionary_of_metrics(items):\n",
    "    \n",
    "    n   = len(items)\n",
    "    Ave = round(np.mean(items),2)\n",
    "    Med = round(np.median(items),2)\n",
    "    Var = round((sum((items-np.mean(items))**2))/(n-1),2)\n",
    "    Std = round(((sum((items-np.mean(items))**2))/(n-1))**(1/2),2)\n",
    "    Min = round(min(items),2)\n",
    "    Max = round(max(items),2)\n",
    "    \n",
    "    return {'mean':Ave,'median':Med,'var':Var,'std':Std,'min':Min,'max':Max}"
   ]
  },
  {
   "cell_type": "markdown",
   "metadata": {},
   "source": [
    "Function 2: Five Number Summary"
   ]
  },
  {
   "cell_type": "code",
   "execution_count": null,
   "metadata": {},
   "outputs": [],
   "source": [
    "def five_num_summary(items):\n",
    "    \n",
    "    percentile = np.percentile(items, [0,25,50,75,100]) #A list of percentiles\n",
    "    Min = round(percentile[0],2)\n",
    "    Q1  = round(percentile[1],2)\n",
    "    Med = round(percentile[2],2)\n",
    "    Q3  = round(percentile[3],2)\n",
    "    Max = round(percentile[4],2)\n",
    "    \n",
    "    return {'max':Max,'median':Med,'min':Min,'q1':Q1,'q3':Q3}\n"
   ]
  }
 ],
 "metadata": {
  "kernelspec": {
   "display_name": "Python 3",
   "language": "python",
   "name": "python3"
  },
  "language_info": {
   "codemirror_mode": {
    "name": "ipython",
    "version": 3
   },
   "file_extension": ".py",
   "mimetype": "text/x-python",
   "name": "python",
   "nbconvert_exporter": "python",
   "pygments_lexer": "ipython3",
   "version": "3.7.4"
  }
 },
 "nbformat": 4,
 "nbformat_minor": 2
}
